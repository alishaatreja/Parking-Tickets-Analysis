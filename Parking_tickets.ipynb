{
 "cells": [
  {
   "cell_type": "code",
   "execution_count": 2,
   "metadata": {},
   "outputs": [],
   "source": [
    "import numpy as np\n",
    "import pandas as pd\n",
    "import seaborn as sns\n",
    "import csv\n",
    "import matplotlib.pyplot as plt"
   ]
  },
  {
   "cell_type": "code",
   "execution_count": 4,
   "metadata": {},
   "outputs": [
    {
     "name": "stderr",
     "output_type": "stream",
     "text": [
      "/anaconda3/lib/python3.7/site-packages/IPython/core/interactiveshell.py:3020: DtypeWarning: Columns (18,38) have mixed types. Specify dtype option on import or set low_memory=False.\n",
      "  interactivity=interactivity, compiler=compiler, result=result)\n"
     ]
    }
   ],
   "source": [
    "tickets_data = pd.read_csv('/Users/alishaatreja/Desktop/Parking_Violations_Issued_-_Fiscal_Year_2017.csv')"
   ]
  },
  {
   "cell_type": "code",
   "execution_count": 9,
   "metadata": {},
   "outputs": [
    {
     "data": {
      "text/html": [
       "<div>\n",
       "<style scoped>\n",
       "    .dataframe tbody tr th:only-of-type {\n",
       "        vertical-align: middle;\n",
       "    }\n",
       "\n",
       "    .dataframe tbody tr th {\n",
       "        vertical-align: top;\n",
       "    }\n",
       "\n",
       "    .dataframe thead th {\n",
       "        text-align: right;\n",
       "    }\n",
       "</style>\n",
       "<table border=\"1\" class=\"dataframe\">\n",
       "  <thead>\n",
       "    <tr style=\"text-align: right;\">\n",
       "      <th></th>\n",
       "      <th>Summons Number</th>\n",
       "      <th>Plate ID</th>\n",
       "      <th>Registration State</th>\n",
       "      <th>Plate Type</th>\n",
       "      <th>Issue Date</th>\n",
       "      <th>Violation Code</th>\n",
       "      <th>Vehicle Body Type</th>\n",
       "      <th>Vehicle Make</th>\n",
       "      <th>Issuing Agency</th>\n",
       "      <th>Street Code1</th>\n",
       "      <th>...</th>\n",
       "      <th>Vehicle Color</th>\n",
       "      <th>Unregistered Vehicle?</th>\n",
       "      <th>Vehicle Year</th>\n",
       "      <th>Meter Number</th>\n",
       "      <th>Feet From Curb</th>\n",
       "      <th>Violation Post Code</th>\n",
       "      <th>Violation Description</th>\n",
       "      <th>No Standing or Stopping Violation</th>\n",
       "      <th>Hydrant Violation</th>\n",
       "      <th>Double Parking Violation</th>\n",
       "    </tr>\n",
       "  </thead>\n",
       "  <tbody>\n",
       "    <tr>\n",
       "      <th>0</th>\n",
       "      <td>5092469481</td>\n",
       "      <td>GZH7067</td>\n",
       "      <td>NY</td>\n",
       "      <td>PAS</td>\n",
       "      <td>07/10/2016</td>\n",
       "      <td>7</td>\n",
       "      <td>SUBN</td>\n",
       "      <td>TOYOT</td>\n",
       "      <td>V</td>\n",
       "      <td>0</td>\n",
       "      <td>...</td>\n",
       "      <td>GY</td>\n",
       "      <td>NaN</td>\n",
       "      <td>2001</td>\n",
       "      <td>NaN</td>\n",
       "      <td>0</td>\n",
       "      <td>NaN</td>\n",
       "      <td>FAILURE TO STOP AT RED LIGHT</td>\n",
       "      <td>NaN</td>\n",
       "      <td>NaN</td>\n",
       "      <td>NaN</td>\n",
       "    </tr>\n",
       "    <tr>\n",
       "      <th>1</th>\n",
       "      <td>5092451658</td>\n",
       "      <td>GZH7067</td>\n",
       "      <td>NY</td>\n",
       "      <td>PAS</td>\n",
       "      <td>07/08/2016</td>\n",
       "      <td>7</td>\n",
       "      <td>SUBN</td>\n",
       "      <td>TOYOT</td>\n",
       "      <td>V</td>\n",
       "      <td>0</td>\n",
       "      <td>...</td>\n",
       "      <td>GY</td>\n",
       "      <td>NaN</td>\n",
       "      <td>2001</td>\n",
       "      <td>NaN</td>\n",
       "      <td>0</td>\n",
       "      <td>NaN</td>\n",
       "      <td>FAILURE TO STOP AT RED LIGHT</td>\n",
       "      <td>NaN</td>\n",
       "      <td>NaN</td>\n",
       "      <td>NaN</td>\n",
       "    </tr>\n",
       "    <tr>\n",
       "      <th>2</th>\n",
       "      <td>4006265037</td>\n",
       "      <td>FZX9232</td>\n",
       "      <td>NY</td>\n",
       "      <td>PAS</td>\n",
       "      <td>08/23/2016</td>\n",
       "      <td>5</td>\n",
       "      <td>SUBN</td>\n",
       "      <td>FORD</td>\n",
       "      <td>V</td>\n",
       "      <td>0</td>\n",
       "      <td>...</td>\n",
       "      <td>BK</td>\n",
       "      <td>NaN</td>\n",
       "      <td>2004</td>\n",
       "      <td>NaN</td>\n",
       "      <td>0</td>\n",
       "      <td>NaN</td>\n",
       "      <td>BUS LANE VIOLATION</td>\n",
       "      <td>NaN</td>\n",
       "      <td>NaN</td>\n",
       "      <td>NaN</td>\n",
       "    </tr>\n",
       "    <tr>\n",
       "      <th>3</th>\n",
       "      <td>8478629828</td>\n",
       "      <td>66623ME</td>\n",
       "      <td>NY</td>\n",
       "      <td>COM</td>\n",
       "      <td>06/14/2017</td>\n",
       "      <td>47</td>\n",
       "      <td>REFG</td>\n",
       "      <td>MITSU</td>\n",
       "      <td>T</td>\n",
       "      <td>10610</td>\n",
       "      <td>...</td>\n",
       "      <td>WH</td>\n",
       "      <td>NaN</td>\n",
       "      <td>2007</td>\n",
       "      <td>NaN</td>\n",
       "      <td>0</td>\n",
       "      <td>04</td>\n",
       "      <td>47-Double PKG-Midtown</td>\n",
       "      <td>NaN</td>\n",
       "      <td>NaN</td>\n",
       "      <td>NaN</td>\n",
       "    </tr>\n",
       "    <tr>\n",
       "      <th>4</th>\n",
       "      <td>7868300310</td>\n",
       "      <td>37033JV</td>\n",
       "      <td>NY</td>\n",
       "      <td>COM</td>\n",
       "      <td>11/21/2016</td>\n",
       "      <td>69</td>\n",
       "      <td>DELV</td>\n",
       "      <td>INTER</td>\n",
       "      <td>T</td>\n",
       "      <td>10510</td>\n",
       "      <td>...</td>\n",
       "      <td>WHITE</td>\n",
       "      <td>NaN</td>\n",
       "      <td>2007</td>\n",
       "      <td>NaN</td>\n",
       "      <td>0</td>\n",
       "      <td>31 6</td>\n",
       "      <td>69-Failure to Disp Muni Recpt</td>\n",
       "      <td>NaN</td>\n",
       "      <td>NaN</td>\n",
       "      <td>NaN</td>\n",
       "    </tr>\n",
       "  </tbody>\n",
       "</table>\n",
       "<p>5 rows × 43 columns</p>\n",
       "</div>"
      ],
      "text/plain": [
       "   Summons Number Plate ID Registration State Plate Type  Issue Date  \\\n",
       "0      5092469481  GZH7067                 NY        PAS  07/10/2016   \n",
       "1      5092451658  GZH7067                 NY        PAS  07/08/2016   \n",
       "2      4006265037  FZX9232                 NY        PAS  08/23/2016   \n",
       "3      8478629828  66623ME                 NY        COM  06/14/2017   \n",
       "4      7868300310  37033JV                 NY        COM  11/21/2016   \n",
       "\n",
       "   Violation Code Vehicle Body Type Vehicle Make Issuing Agency  Street Code1  \\\n",
       "0               7              SUBN        TOYOT              V             0   \n",
       "1               7              SUBN        TOYOT              V             0   \n",
       "2               5              SUBN         FORD              V             0   \n",
       "3              47              REFG        MITSU              T         10610   \n",
       "4              69              DELV        INTER              T         10510   \n",
       "\n",
       "            ...             Vehicle Color  Unregistered Vehicle?  \\\n",
       "0           ...                        GY                    NaN   \n",
       "1           ...                        GY                    NaN   \n",
       "2           ...                        BK                    NaN   \n",
       "3           ...                        WH                    NaN   \n",
       "4           ...                     WHITE                    NaN   \n",
       "\n",
       "   Vehicle Year  Meter Number  Feet From Curb  Violation Post Code  \\\n",
       "0          2001           NaN               0                  NaN   \n",
       "1          2001           NaN               0                  NaN   \n",
       "2          2004           NaN               0                  NaN   \n",
       "3          2007           NaN               0                   04   \n",
       "4          2007           NaN               0                 31 6   \n",
       "\n",
       "           Violation Description No Standing or Stopping Violation  \\\n",
       "0   FAILURE TO STOP AT RED LIGHT                               NaN   \n",
       "1   FAILURE TO STOP AT RED LIGHT                               NaN   \n",
       "2             BUS LANE VIOLATION                               NaN   \n",
       "3          47-Double PKG-Midtown                               NaN   \n",
       "4  69-Failure to Disp Muni Recpt                               NaN   \n",
       "\n",
       "  Hydrant Violation Double Parking Violation  \n",
       "0               NaN                      NaN  \n",
       "1               NaN                      NaN  \n",
       "2               NaN                      NaN  \n",
       "3               NaN                      NaN  \n",
       "4               NaN                      NaN  \n",
       "\n",
       "[5 rows x 43 columns]"
      ]
     },
     "execution_count": 9,
     "metadata": {},
     "output_type": "execute_result"
    }
   ],
   "source": [
    "tickets_data.head()"
   ]
  },
  {
   "cell_type": "code",
   "execution_count": 5,
   "metadata": {},
   "outputs": [
    {
     "data": {
      "text/plain": [
       "Summons Number                         int64\n",
       "Plate ID                              object\n",
       "Registration State                    object\n",
       "Plate Type                            object\n",
       "Issue Date                            object\n",
       "Violation Code                         int64\n",
       "Vehicle Body Type                     object\n",
       "Vehicle Make                          object\n",
       "Issuing Agency                        object\n",
       "Street Code1                           int64\n",
       "Street Code2                           int64\n",
       "Street Code3                           int64\n",
       "Vehicle Expiration Date                int64\n",
       "Violation Location                   float64\n",
       "Violation Precinct                     int64\n",
       "Issuer Precinct                        int64\n",
       "Issuer Code                            int64\n",
       "Issuer Command                        object\n",
       "Issuer Squad                          object\n",
       "Violation Time                        object\n",
       "Time First Observed                   object\n",
       "Violation County                      object\n",
       "Violation In Front Of Or Opposite     object\n",
       "House Number                          object\n",
       "Street Name                           object\n",
       "Intersecting Street                   object\n",
       "Date First Observed                    int64\n",
       "Law Section                            int64\n",
       "Sub Division                          object\n",
       "Violation Legal Code                  object\n",
       "Days Parking In Effect                object\n",
       "From Hours In Effect                  object\n",
       "To Hours In Effect                    object\n",
       "Vehicle Color                         object\n",
       "Unregistered Vehicle?                float64\n",
       "Vehicle Year                           int64\n",
       "Meter Number                          object\n",
       "Feet From Curb                         int64\n",
       "Violation Post Code                   object\n",
       "Violation Description                 object\n",
       "No Standing or Stopping Violation    float64\n",
       "Hydrant Violation                    float64\n",
       "Double Parking Violation             float64\n",
       "dtype: object"
      ]
     },
     "execution_count": 5,
     "metadata": {},
     "output_type": "execute_result"
    }
   ],
   "source": [
    "tickets_data.dtypes"
   ]
  },
  {
   "cell_type": "code",
   "execution_count": 6,
   "metadata": {},
   "outputs": [
    {
     "name": "stdout",
     "output_type": "stream",
     "text": [
      "(10803028, 43)\n"
     ]
    }
   ],
   "source": [
    "print(tickets_data.shape)"
   ]
  },
  {
   "cell_type": "code",
   "execution_count": 7,
   "metadata": {
    "scrolled": false
   },
   "outputs": [
    {
     "data": {
      "text/html": [
       "<div>\n",
       "<style scoped>\n",
       "    .dataframe tbody tr th:only-of-type {\n",
       "        vertical-align: middle;\n",
       "    }\n",
       "\n",
       "    .dataframe tbody tr th {\n",
       "        vertical-align: top;\n",
       "    }\n",
       "\n",
       "    .dataframe thead th {\n",
       "        text-align: right;\n",
       "    }\n",
       "</style>\n",
       "<table border=\"1\" class=\"dataframe\">\n",
       "  <thead>\n",
       "    <tr style=\"text-align: right;\">\n",
       "      <th></th>\n",
       "      <th>Total</th>\n",
       "      <th>Percent</th>\n",
       "    </tr>\n",
       "  </thead>\n",
       "  <tbody>\n",
       "    <tr>\n",
       "      <th>Double Parking Violation</th>\n",
       "      <td>10803028</td>\n",
       "      <td>1.000000</td>\n",
       "    </tr>\n",
       "    <tr>\n",
       "      <th>Hydrant Violation</th>\n",
       "      <td>10803028</td>\n",
       "      <td>1.000000</td>\n",
       "    </tr>\n",
       "    <tr>\n",
       "      <th>No Standing or Stopping Violation</th>\n",
       "      <td>10803028</td>\n",
       "      <td>1.000000</td>\n",
       "    </tr>\n",
       "    <tr>\n",
       "      <th>Time First Observed</th>\n",
       "      <td>9962281</td>\n",
       "      <td>0.922175</td>\n",
       "    </tr>\n",
       "    <tr>\n",
       "      <th>Unregistered Vehicle?</th>\n",
       "      <td>9675432</td>\n",
       "      <td>0.895622</td>\n",
       "    </tr>\n",
       "    <tr>\n",
       "      <th>Meter Number</th>\n",
       "      <td>9017555</td>\n",
       "      <td>0.834725</td>\n",
       "    </tr>\n",
       "    <tr>\n",
       "      <th>Violation Legal Code</th>\n",
       "      <td>8740321</td>\n",
       "      <td>0.809062</td>\n",
       "    </tr>\n",
       "    <tr>\n",
       "      <th>Intersecting Street</th>\n",
       "      <td>7435473</td>\n",
       "      <td>0.688277</td>\n",
       "    </tr>\n",
       "    <tr>\n",
       "      <th>From Hours In Effect</th>\n",
       "      <td>5450946</td>\n",
       "      <td>0.504576</td>\n",
       "    </tr>\n",
       "    <tr>\n",
       "      <th>To Hours In Effect</th>\n",
       "      <td>5450943</td>\n",
       "      <td>0.504575</td>\n",
       "    </tr>\n",
       "    <tr>\n",
       "      <th>Violation Post Code</th>\n",
       "      <td>3190187</td>\n",
       "      <td>0.295305</td>\n",
       "    </tr>\n",
       "    <tr>\n",
       "      <th>Days Parking In Effect</th>\n",
       "      <td>2712416</td>\n",
       "      <td>0.251079</td>\n",
       "    </tr>\n",
       "    <tr>\n",
       "      <th>House Number</th>\n",
       "      <td>2288618</td>\n",
       "      <td>0.211850</td>\n",
       "    </tr>\n",
       "    <tr>\n",
       "      <th>Violation In Front Of Or Opposite</th>\n",
       "      <td>2161235</td>\n",
       "      <td>0.200058</td>\n",
       "    </tr>\n",
       "    <tr>\n",
       "      <th>Violation Location</th>\n",
       "      <td>2072400</td>\n",
       "      <td>0.191835</td>\n",
       "    </tr>\n",
       "    <tr>\n",
       "      <th>Issuer Squad</th>\n",
       "      <td>2063541</td>\n",
       "      <td>0.191015</td>\n",
       "    </tr>\n",
       "    <tr>\n",
       "      <th>Issuer Command</th>\n",
       "      <td>2062645</td>\n",
       "      <td>0.190932</td>\n",
       "    </tr>\n",
       "    <tr>\n",
       "      <th>Violation Description</th>\n",
       "      <td>1127470</td>\n",
       "      <td>0.104366</td>\n",
       "    </tr>\n",
       "    <tr>\n",
       "      <th>Vehicle Color</th>\n",
       "      <td>152342</td>\n",
       "      <td>0.014102</td>\n",
       "    </tr>\n",
       "    <tr>\n",
       "      <th>Vehicle Make</th>\n",
       "      <td>73050</td>\n",
       "      <td>0.006762</td>\n",
       "    </tr>\n",
       "    <tr>\n",
       "      <th>Vehicle Body Type</th>\n",
       "      <td>42711</td>\n",
       "      <td>0.003954</td>\n",
       "    </tr>\n",
       "    <tr>\n",
       "      <th>Violation County</th>\n",
       "      <td>39547</td>\n",
       "      <td>0.003661</td>\n",
       "    </tr>\n",
       "    <tr>\n",
       "      <th>Street Name</th>\n",
       "      <td>4009</td>\n",
       "      <td>0.000371</td>\n",
       "    </tr>\n",
       "    <tr>\n",
       "      <th>Sub Division</th>\n",
       "      <td>773</td>\n",
       "      <td>0.000072</td>\n",
       "    </tr>\n",
       "    <tr>\n",
       "      <th>Plate ID</th>\n",
       "      <td>728</td>\n",
       "      <td>0.000067</td>\n",
       "    </tr>\n",
       "    <tr>\n",
       "      <th>Violation Time</th>\n",
       "      <td>63</td>\n",
       "      <td>0.000006</td>\n",
       "    </tr>\n",
       "    <tr>\n",
       "      <th>Issuing Agency</th>\n",
       "      <td>0</td>\n",
       "      <td>0.000000</td>\n",
       "    </tr>\n",
       "    <tr>\n",
       "      <th>Registration State</th>\n",
       "      <td>0</td>\n",
       "      <td>0.000000</td>\n",
       "    </tr>\n",
       "    <tr>\n",
       "      <th>Plate Type</th>\n",
       "      <td>0</td>\n",
       "      <td>0.000000</td>\n",
       "    </tr>\n",
       "    <tr>\n",
       "      <th>Issue Date</th>\n",
       "      <td>0</td>\n",
       "      <td>0.000000</td>\n",
       "    </tr>\n",
       "    <tr>\n",
       "      <th>Violation Code</th>\n",
       "      <td>0</td>\n",
       "      <td>0.000000</td>\n",
       "    </tr>\n",
       "    <tr>\n",
       "      <th>Feet From Curb</th>\n",
       "      <td>0</td>\n",
       "      <td>0.000000</td>\n",
       "    </tr>\n",
       "    <tr>\n",
       "      <th>Vehicle Year</th>\n",
       "      <td>0</td>\n",
       "      <td>0.000000</td>\n",
       "    </tr>\n",
       "    <tr>\n",
       "      <th>Street Code2</th>\n",
       "      <td>0</td>\n",
       "      <td>0.000000</td>\n",
       "    </tr>\n",
       "    <tr>\n",
       "      <th>Street Code1</th>\n",
       "      <td>0</td>\n",
       "      <td>0.000000</td>\n",
       "    </tr>\n",
       "    <tr>\n",
       "      <th>Street Code3</th>\n",
       "      <td>0</td>\n",
       "      <td>0.000000</td>\n",
       "    </tr>\n",
       "    <tr>\n",
       "      <th>Vehicle Expiration Date</th>\n",
       "      <td>0</td>\n",
       "      <td>0.000000</td>\n",
       "    </tr>\n",
       "    <tr>\n",
       "      <th>Violation Precinct</th>\n",
       "      <td>0</td>\n",
       "      <td>0.000000</td>\n",
       "    </tr>\n",
       "    <tr>\n",
       "      <th>Issuer Precinct</th>\n",
       "      <td>0</td>\n",
       "      <td>0.000000</td>\n",
       "    </tr>\n",
       "    <tr>\n",
       "      <th>Issuer Code</th>\n",
       "      <td>0</td>\n",
       "      <td>0.000000</td>\n",
       "    </tr>\n",
       "    <tr>\n",
       "      <th>Law Section</th>\n",
       "      <td>0</td>\n",
       "      <td>0.000000</td>\n",
       "    </tr>\n",
       "    <tr>\n",
       "      <th>Date First Observed</th>\n",
       "      <td>0</td>\n",
       "      <td>0.000000</td>\n",
       "    </tr>\n",
       "    <tr>\n",
       "      <th>Summons Number</th>\n",
       "      <td>0</td>\n",
       "      <td>0.000000</td>\n",
       "    </tr>\n",
       "  </tbody>\n",
       "</table>\n",
       "</div>"
      ],
      "text/plain": [
       "                                      Total   Percent\n",
       "Double Parking Violation           10803028  1.000000\n",
       "Hydrant Violation                  10803028  1.000000\n",
       "No Standing or Stopping Violation  10803028  1.000000\n",
       "Time First Observed                 9962281  0.922175\n",
       "Unregistered Vehicle?               9675432  0.895622\n",
       "Meter Number                        9017555  0.834725\n",
       "Violation Legal Code                8740321  0.809062\n",
       "Intersecting Street                 7435473  0.688277\n",
       "From Hours In Effect                5450946  0.504576\n",
       "To Hours In Effect                  5450943  0.504575\n",
       "Violation Post Code                 3190187  0.295305\n",
       "Days Parking In Effect              2712416  0.251079\n",
       "House Number                        2288618  0.211850\n",
       "Violation In Front Of Or Opposite   2161235  0.200058\n",
       "Violation Location                  2072400  0.191835\n",
       "Issuer Squad                        2063541  0.191015\n",
       "Issuer Command                      2062645  0.190932\n",
       "Violation Description               1127470  0.104366\n",
       "Vehicle Color                        152342  0.014102\n",
       "Vehicle Make                          73050  0.006762\n",
       "Vehicle Body Type                     42711  0.003954\n",
       "Violation County                      39547  0.003661\n",
       "Street Name                            4009  0.000371\n",
       "Sub Division                            773  0.000072\n",
       "Plate ID                                728  0.000067\n",
       "Violation Time                           63  0.000006\n",
       "Issuing Agency                            0  0.000000\n",
       "Registration State                        0  0.000000\n",
       "Plate Type                                0  0.000000\n",
       "Issue Date                                0  0.000000\n",
       "Violation Code                            0  0.000000\n",
       "Feet From Curb                            0  0.000000\n",
       "Vehicle Year                              0  0.000000\n",
       "Street Code2                              0  0.000000\n",
       "Street Code1                              0  0.000000\n",
       "Street Code3                              0  0.000000\n",
       "Vehicle Expiration Date                   0  0.000000\n",
       "Violation Precinct                        0  0.000000\n",
       "Issuer Precinct                           0  0.000000\n",
       "Issuer Code                               0  0.000000\n",
       "Law Section                               0  0.000000\n",
       "Date First Observed                       0  0.000000\n",
       "Summons Number                            0  0.000000"
      ]
     },
     "execution_count": 7,
     "metadata": {},
     "output_type": "execute_result"
    }
   ],
   "source": [
    "total = tickets_data.isnull().sum().sort_values(ascending=False)\n",
    "percent = (tickets_data.isnull().sum()/tickets_data.isnull().count()).sort_values(ascending=False)\n",
    "missing_data = pd.concat([total, percent], axis=1, keys=['Total', 'Percent'])\n",
    "missing_data"
   ]
  },
  {
   "cell_type": "code",
   "execution_count": null,
   "metadata": {},
   "outputs": [],
   "source": []
  },
  {
   "cell_type": "code",
   "execution_count": 38,
   "metadata": {},
   "outputs": [],
   "source": [
    " drop_Total=missing_data.index[missing_data[\"Percent\"] > 0.50].tolist()"
   ]
  },
  {
   "cell_type": "code",
   "execution_count": 39,
   "metadata": {},
   "outputs": [
    {
     "data": {
      "text/plain": [
       "['Double Parking Violation',\n",
       " 'Hydrant Violation',\n",
       " 'No Standing or Stopping Violation',\n",
       " 'Time First Observed',\n",
       " 'Unregistered Vehicle?',\n",
       " 'Meter Number',\n",
       " 'Violation Legal Code',\n",
       " 'Intersecting Street',\n",
       " 'From Hours In Effect',\n",
       " 'To Hours In Effect']"
      ]
     },
     "execution_count": 39,
     "metadata": {},
     "output_type": "execute_result"
    }
   ],
   "source": [
    "drop_Total"
   ]
  },
  {
   "cell_type": "code",
   "execution_count": 8,
   "metadata": {},
   "outputs": [],
   "source": [
    " column_drop = ['Double Parking Violation',\n",
    " 'Hydrant Violation',\n",
    " 'No Standing or Stopping Violation',\n",
    " 'Time First Observed',\n",
    " 'Unregistered Vehicle?',\n",
    " 'Meter Number',\n",
    " 'Violation Legal Code',\n",
    " 'Intersecting Street',\n",
    " 'From Hours In Effect',\n",
    " 'To Hours In Effect']"
   ]
  },
  {
   "cell_type": "code",
   "execution_count": 9,
   "metadata": {},
   "outputs": [],
   "source": [
    "tickets_data.drop(column_drop, axis = 1, inplace = True)"
   ]
  },
  {
   "cell_type": "code",
   "execution_count": 10,
   "metadata": {},
   "outputs": [
    {
     "name": "stdout",
     "output_type": "stream",
     "text": [
      "(10803028, 33)\n"
     ]
    }
   ],
   "source": [
    "print(tickets_data.shape)"
   ]
  },
  {
   "cell_type": "code",
   "execution_count": 12,
   "metadata": {},
   "outputs": [
    {
     "data": {
      "text/plain": [
       "False"
      ]
     },
     "execution_count": 12,
     "metadata": {},
     "output_type": "execute_result"
    }
   ],
   "source": [
    "tickets_data['Plate ID'].isnull().any()"
   ]
  },
  {
   "cell_type": "code",
   "execution_count": 11,
   "metadata": {},
   "outputs": [],
   "source": [
    "tickets_data.dropna(axis = 0, how = 'any', subset = ['Plate ID'], inplace = True)"
   ]
  },
  {
   "cell_type": "code",
   "execution_count": 13,
   "metadata": {},
   "outputs": [
    {
     "data": {
      "text/html": [
       "<div>\n",
       "<style scoped>\n",
       "    .dataframe tbody tr th:only-of-type {\n",
       "        vertical-align: middle;\n",
       "    }\n",
       "\n",
       "    .dataframe tbody tr th {\n",
       "        vertical-align: top;\n",
       "    }\n",
       "\n",
       "    .dataframe thead th {\n",
       "        text-align: right;\n",
       "    }\n",
       "</style>\n",
       "<table border=\"1\" class=\"dataframe\">\n",
       "  <thead>\n",
       "    <tr style=\"text-align: right;\">\n",
       "      <th></th>\n",
       "      <th>Registration State</th>\n",
       "      <th>Summons Number</th>\n",
       "      <th>Plate ID</th>\n",
       "      <th>Plate Type</th>\n",
       "      <th>Issue Date</th>\n",
       "      <th>Violation Code</th>\n",
       "      <th>Vehicle Body Type</th>\n",
       "      <th>Vehicle Make</th>\n",
       "      <th>Issuing Agency</th>\n",
       "      <th>Street Code1</th>\n",
       "      <th>...</th>\n",
       "      <th>Street Name</th>\n",
       "      <th>Date First Observed</th>\n",
       "      <th>Law Section</th>\n",
       "      <th>Sub Division</th>\n",
       "      <th>Days Parking In Effect</th>\n",
       "      <th>Vehicle Color</th>\n",
       "      <th>Vehicle Year</th>\n",
       "      <th>Feet From Curb</th>\n",
       "      <th>Violation Post Code</th>\n",
       "      <th>Violation Description</th>\n",
       "    </tr>\n",
       "  </thead>\n",
       "  <tbody>\n",
       "    <tr>\n",
       "      <th>0</th>\n",
       "      <td>99</td>\n",
       "      <td>36625</td>\n",
       "      <td>36625</td>\n",
       "      <td>36625</td>\n",
       "      <td>36625</td>\n",
       "      <td>36625</td>\n",
       "      <td>31519</td>\n",
       "      <td>30051</td>\n",
       "      <td>36625</td>\n",
       "      <td>36625</td>\n",
       "      <td>...</td>\n",
       "      <td>36185</td>\n",
       "      <td>36625</td>\n",
       "      <td>36625</td>\n",
       "      <td>36469</td>\n",
       "      <td>35216</td>\n",
       "      <td>32691</td>\n",
       "      <td>36625</td>\n",
       "      <td>36625</td>\n",
       "      <td>5226</td>\n",
       "      <td>5164</td>\n",
       "    </tr>\n",
       "    <tr>\n",
       "      <th>1</th>\n",
       "      <td>AB</td>\n",
       "      <td>218</td>\n",
       "      <td>218</td>\n",
       "      <td>218</td>\n",
       "      <td>218</td>\n",
       "      <td>218</td>\n",
       "      <td>214</td>\n",
       "      <td>214</td>\n",
       "      <td>218</td>\n",
       "      <td>218</td>\n",
       "      <td>...</td>\n",
       "      <td>218</td>\n",
       "      <td>218</td>\n",
       "      <td>218</td>\n",
       "      <td>218</td>\n",
       "      <td>202</td>\n",
       "      <td>215</td>\n",
       "      <td>218</td>\n",
       "      <td>218</td>\n",
       "      <td>206</td>\n",
       "      <td>206</td>\n",
       "    </tr>\n",
       "    <tr>\n",
       "      <th>2</th>\n",
       "      <td>AK</td>\n",
       "      <td>754</td>\n",
       "      <td>754</td>\n",
       "      <td>754</td>\n",
       "      <td>754</td>\n",
       "      <td>754</td>\n",
       "      <td>746</td>\n",
       "      <td>744</td>\n",
       "      <td>754</td>\n",
       "      <td>754</td>\n",
       "      <td>...</td>\n",
       "      <td>754</td>\n",
       "      <td>754</td>\n",
       "      <td>754</td>\n",
       "      <td>754</td>\n",
       "      <td>669</td>\n",
       "      <td>746</td>\n",
       "      <td>754</td>\n",
       "      <td>754</td>\n",
       "      <td>608</td>\n",
       "      <td>663</td>\n",
       "    </tr>\n",
       "    <tr>\n",
       "      <th>3</th>\n",
       "      <td>AL</td>\n",
       "      <td>6891</td>\n",
       "      <td>6891</td>\n",
       "      <td>6891</td>\n",
       "      <td>6891</td>\n",
       "      <td>6891</td>\n",
       "      <td>6818</td>\n",
       "      <td>6853</td>\n",
       "      <td>6891</td>\n",
       "      <td>6891</td>\n",
       "      <td>...</td>\n",
       "      <td>6887</td>\n",
       "      <td>6891</td>\n",
       "      <td>6891</td>\n",
       "      <td>6891</td>\n",
       "      <td>5699</td>\n",
       "      <td>6874</td>\n",
       "      <td>6891</td>\n",
       "      <td>6891</td>\n",
       "      <td>4861</td>\n",
       "      <td>5818</td>\n",
       "    </tr>\n",
       "    <tr>\n",
       "      <th>4</th>\n",
       "      <td>AR</td>\n",
       "      <td>2621</td>\n",
       "      <td>2621</td>\n",
       "      <td>2621</td>\n",
       "      <td>2621</td>\n",
       "      <td>2621</td>\n",
       "      <td>2601</td>\n",
       "      <td>2597</td>\n",
       "      <td>2621</td>\n",
       "      <td>2621</td>\n",
       "      <td>...</td>\n",
       "      <td>2620</td>\n",
       "      <td>2621</td>\n",
       "      <td>2621</td>\n",
       "      <td>2620</td>\n",
       "      <td>2257</td>\n",
       "      <td>2605</td>\n",
       "      <td>2621</td>\n",
       "      <td>2621</td>\n",
       "      <td>2002</td>\n",
       "      <td>2219</td>\n",
       "    </tr>\n",
       "  </tbody>\n",
       "</table>\n",
       "<p>5 rows × 33 columns</p>\n",
       "</div>"
      ],
      "text/plain": [
       "  Registration State  Summons Number  Plate ID  Plate Type  Issue Date  \\\n",
       "0                 99           36625     36625       36625       36625   \n",
       "1                 AB             218       218         218         218   \n",
       "2                 AK             754       754         754         754   \n",
       "3                 AL            6891      6891        6891        6891   \n",
       "4                 AR            2621      2621        2621        2621   \n",
       "\n",
       "   Violation Code  Vehicle Body Type  Vehicle Make  Issuing Agency  \\\n",
       "0           36625              31519         30051           36625   \n",
       "1             218                214           214             218   \n",
       "2             754                746           744             754   \n",
       "3            6891               6818          6853            6891   \n",
       "4            2621               2601          2597            2621   \n",
       "\n",
       "   Street Code1          ...            Street Name  Date First Observed  \\\n",
       "0         36625          ...                  36185                36625   \n",
       "1           218          ...                    218                  218   \n",
       "2           754          ...                    754                  754   \n",
       "3          6891          ...                   6887                 6891   \n",
       "4          2621          ...                   2620                 2621   \n",
       "\n",
       "   Law Section  Sub Division  Days Parking In Effect      Vehicle Color  \\\n",
       "0        36625         36469                       35216          32691   \n",
       "1          218           218                         202            215   \n",
       "2          754           754                         669            746   \n",
       "3         6891          6891                        5699           6874   \n",
       "4         2621          2620                        2257           2605   \n",
       "\n",
       "   Vehicle Year  Feet From Curb  Violation Post Code  Violation Description  \n",
       "0         36625           36625                 5226                   5164  \n",
       "1           218             218                  206                    206  \n",
       "2           754             754                  608                    663  \n",
       "3          6891            6891                 4861                   5818  \n",
       "4          2621            2621                 2002                   2219  \n",
       "\n",
       "[5 rows x 33 columns]"
      ]
     },
     "execution_count": 13,
     "metadata": {},
     "output_type": "execute_result"
    }
   ],
   "source": [
    "state_tickets_data=tickets_data.groupby(by='Registration State',as_index=False).count()\n",
    "state_tickets_data.head()"
   ]
  },
  {
   "cell_type": "code",
   "execution_count": 14,
   "metadata": {},
   "outputs": [],
   "source": [
    "tickets_data_columns = state_tickets_data[['Registration State','Summons Number']]"
   ]
  },
  {
   "cell_type": "code",
   "execution_count": 15,
   "metadata": {},
   "outputs": [],
   "source": [
    "final_tickets = tickets_data_columns[tickets_data_columns['Registration State']!='99']"
   ]
  },
  {
   "cell_type": "code",
   "execution_count": 16,
   "metadata": {},
   "outputs": [
    {
     "data": {
      "text/html": [
       "<div>\n",
       "<style scoped>\n",
       "    .dataframe tbody tr th:only-of-type {\n",
       "        vertical-align: middle;\n",
       "    }\n",
       "\n",
       "    .dataframe tbody tr th {\n",
       "        vertical-align: top;\n",
       "    }\n",
       "\n",
       "    .dataframe thead th {\n",
       "        text-align: right;\n",
       "    }\n",
       "</style>\n",
       "<table border=\"1\" class=\"dataframe\">\n",
       "  <thead>\n",
       "    <tr style=\"text-align: right;\">\n",
       "      <th></th>\n",
       "      <th>Registration State</th>\n",
       "      <th>Summons Number</th>\n",
       "    </tr>\n",
       "  </thead>\n",
       "  <tbody>\n",
       "    <tr>\n",
       "      <th>1</th>\n",
       "      <td>AB</td>\n",
       "      <td>218</td>\n",
       "    </tr>\n",
       "    <tr>\n",
       "      <th>2</th>\n",
       "      <td>AK</td>\n",
       "      <td>754</td>\n",
       "    </tr>\n",
       "    <tr>\n",
       "      <th>3</th>\n",
       "      <td>AL</td>\n",
       "      <td>6891</td>\n",
       "    </tr>\n",
       "    <tr>\n",
       "      <th>4</th>\n",
       "      <td>AR</td>\n",
       "      <td>2621</td>\n",
       "    </tr>\n",
       "    <tr>\n",
       "      <th>5</th>\n",
       "      <td>AZ</td>\n",
       "      <td>26426</td>\n",
       "    </tr>\n",
       "  </tbody>\n",
       "</table>\n",
       "</div>"
      ],
      "text/plain": [
       "  Registration State  Summons Number\n",
       "1                 AB             218\n",
       "2                 AK             754\n",
       "3                 AL            6891\n",
       "4                 AR            2621\n",
       "5                 AZ           26426"
      ]
     },
     "execution_count": 16,
     "metadata": {},
     "output_type": "execute_result"
    }
   ],
   "source": [
    "final_tickets.head()"
   ]
  },
  {
   "cell_type": "code",
   "execution_count": 21,
   "metadata": {},
   "outputs": [
    {
     "data": {
      "image/png": "[encoded data removed]",
      "text/plain": [
       "<Figure size 1440x432 with 1 Axes>"
      ]
     },
     "metadata": {
      "needs_background": "light"
     },
     "output_type": "display_data"
    }
   ],
   "source": [
    "plt.figure(figsize=(20,6))\n",
    "x=final_tickets['Summons Number']\n",
    "y=final_tickets['Registration State']\n",
    "\n",
    "plt.bar(y,x, color = 'g')\n",
    "plt.xticks(rotation=90)\n",
    "\n",
    "plt.title(\"No. of Parking Tickets Given in Each State\", fontsize=15)\n",
    "plt.xlabel(\"Registration State\", fontsize=18)\n",
    "plt.ylabel(\"Total No. of Parking tickets\", fontsize=18)\n",
    "plt.show()"
   ]
  },
  {
   "cell_type": "code",
   "execution_count": 86,
   "metadata": {
    "scrolled": false
   },
   "outputs": [
    {
     "data": {
      "image/png": "[encoded data removed]",
      "text/plain": [
       "<Figure size 1152x576 with 1 Axes>"
      ]
     },
     "metadata": {
      "needs_background": "light"
     },
     "output_type": "display_data"
    }
   ],
   "source": [
    "vehicle_make = tickets_data['Vehicle Make'].value_counts()\n",
    "\n",
    "plt.figure(figsize=(16,8))\n",
    "f = sns.barplot(y=np.log(vehicle_make.values), x=vehicle_make.index, alpha=0.6)\n",
    "\n",
    "plt.ylabel('log(No. of cars)', fontsize=16);\n",
    "plt.xlabel('Car make [Label turned off due to crowding. Too many companies!]', fontsize=16);\n",
    "plt.title('Parking ticket given for different type of car make', fontsize=16);\n",
    "\n",
    "plt.show();"
   ]
  },
  {
   "cell_type": "code",
   "execution_count": null,
   "metadata": {},
   "outputs": [],
   "source": [
    "tickets_data['date'] = pd.to_datetime(tickets_data['Issue Date']) # Convert date to datetime\n"
   ]
  },
  {
   "cell_type": "code",
   "execution_count": null,
   "metadata": {},
   "outputs": [],
   "source": [
    "tickets_data['month'] = tickets_data['date'].dt.month #extract month from Issue Date"
   ]
  },
  {
   "cell_type": "code",
   "execution_count": 140,
   "metadata": {},
   "outputs": [],
   "source": [
    "grpby_months = tickets_data.groupby(by='month',as_index=False).count()"
   ]
  },
  {
   "cell_type": "code",
   "execution_count": 142,
   "metadata": {},
   "outputs": [],
   "source": [
    "summons_months =grpby_months[['month','Summons Number']]"
   ]
  },
  {
   "cell_type": "code",
   "execution_count": 147,
   "metadata": {},
   "outputs": [
    {
     "data": {
      "text/plain": [
       "0      1\n",
       "1      2\n",
       "2      3\n",
       "3      4\n",
       "4      5\n",
       "5      6\n",
       "6      7\n",
       "7      8\n",
       "8      9\n",
       "9     10\n",
       "10    11\n",
       "11    12\n",
       "Name: month, dtype: int64"
      ]
     },
     "execution_count": 147,
     "metadata": {},
     "output_type": "execute_result"
    }
   ],
   "source": [
    "summons_months['month']"
   ]
  },
  {
   "cell_type": "code",
   "execution_count": null,
   "metadata": {},
   "outputs": [],
   "source": []
  },
  {
   "cell_type": "code",
   "execution_count": 158,
   "metadata": {},
   "outputs": [
    {
     "data": {
      "image/png": "[encoded data removed]",
      "text/plain": [
       "<Figure size 1224x432 with 1 Axes>"
      ]
     },
     "metadata": {
      "needs_background": "light"
     },
     "output_type": "display_data"
    }
   ],
   "source": [
    "plt.figure(figsize=(17,6))\n",
    "x=summons_months['Summons Number']\n",
    "y=summons_months['month']\n",
    "\n",
    "plt.bar(y,x, color = 'y')\n",
    "labels=['Jan','Feb','Mar','Apr','May','Jun','Jul','Aug','Sep','Oct','Nov','Dec'] \n",
    "plt.xticks(summons_months['month'], labels, rotation=45)\n",
    "\n",
    "plt.title(\"Analysis of Number of Parking Tickets Given in each month\", fontsize=15)\n",
    "plt.xlabel(\"Month\", fontsize=18)\n",
    "plt.ylabel(\"Total No. of Parking tickets\", fontsize=18)\n",
    "plt.show()"
   ]
  },
  {
   "cell_type": "code",
   "execution_count": 167,
   "metadata": {},
   "outputs": [],
   "source": [
    "grpby_vehicle_make = tickets_data.groupby(by='Vehicle Make',as_index=False).count()"
   ]
  },
  {
   "cell_type": "code",
   "execution_count": 172,
   "metadata": {},
   "outputs": [
    {
     "data": {
      "text/plain": [
       "'ken'"
      ]
     },
     "execution_count": 172,
     "metadata": {},
     "output_type": "execute_result"
    }
   ],
   "source": [
    "grpby_vehicle_make['Vehicle Make'].max()"
   ]
  },
  {
   "cell_type": "code",
   "execution_count": 3,
   "metadata": {},
   "outputs": [
    {
     "ename": "NameError",
     "evalue": "name 'tickets_data' is not defined",
     "output_type": "error",
     "traceback": [
      "\u001b[0;31m---------------------------------------------------------------------------\u001b[0m",
      "\u001b[0;31mNameError\u001b[0m                                 Traceback (most recent call last)",
      "\u001b[0;32m<ipython-input-3-3735e1c53b47>\u001b[0m in \u001b[0;36m<module>\u001b[0;34m\u001b[0m\n\u001b[1;32m      3\u001b[0m \u001b[0;34m\u001b[0m\u001b[0m\n\u001b[1;32m      4\u001b[0m \u001b[0msns\u001b[0m\u001b[0;34m.\u001b[0m\u001b[0mset_context\u001b[0m\u001b[0;34m(\u001b[0m\u001b[0;34m\"paper\"\u001b[0m\u001b[0;34m,\u001b[0m \u001b[0mfont_scale\u001b[0m \u001b[0;34m=\u001b[0m \u001b[0;36m2\u001b[0m\u001b[0;34m)\u001b[0m\u001b[0;34m\u001b[0m\u001b[0;34m\u001b[0m\u001b[0m\n\u001b[0;32m----> 5\u001b[0;31m \u001b[0msns\u001b[0m\u001b[0;34m.\u001b[0m\u001b[0mcountplot\u001b[0m\u001b[0;34m(\u001b[0m\u001b[0mx\u001b[0m\u001b[0;34m=\u001b[0m \u001b[0;34m\"month\"\u001b[0m\u001b[0;34m,\u001b[0m \u001b[0mdata\u001b[0m\u001b[0;34m=\u001b[0m \u001b[0mtickets_data\u001b[0m\u001b[0;34m,\u001b[0m \u001b[0mpalette\u001b[0m\u001b[0;34m=\u001b[0m\u001b[0;34m\"magma\"\u001b[0m\u001b[0;34m)\u001b[0m\u001b[0;34m\u001b[0m\u001b[0;34m\u001b[0m\u001b[0m\n\u001b[0m\u001b[1;32m      6\u001b[0m \u001b[0;34m\u001b[0m\u001b[0m\n\u001b[1;32m      7\u001b[0m \u001b[0;34m\u001b[0m\u001b[0m\n",
      "\u001b[0;31mNameError\u001b[0m: name 'tickets_data' is not defined"
     ]
    },
    {
     "data": {
      "text/plain": [
       "<Figure size 1008x504 with 0 Axes>"
      ]
     },
     "metadata": {},
     "output_type": "display_data"
    }
   ],
   "source": [
    "# Plot for analyzing maximum tickets given in a month\n",
    "plt.figure(figsize=(14,7))\n",
    "\n",
    "sns.set_context(\"paper\", font_scale = 2)\n",
    "sns.countplot(x= \"month\", data= tickets_data, palette=\"magma\")\n",
    "\n",
    "\n",
    "plt.title(\" Max No.of Parking Tickets given in a Month \")\n",
    "plt.xlabel(\"Month\", fontsize=18)\n",
    "plt.ylabel(\"Total No. of Parking tickets\", fontsize=18)\n",
    "plt.show()"
   ]
  },
  {
   "cell_type": "code",
   "execution_count": null,
   "metadata": {},
   "outputs": [],
   "source": [
    "date_gr = tickets_data.groupby(\"date\").count()\n",
    "df_date = date_gr.reset_index()\n",
    "\n",
    "df_date.iplot(x= \"date\", y=\"lat\", size= 6, color= \"red\", title= \"Every Day Parking Tickets\", \n",
    "             xTitle = \"Days\", yTitle = \"counts\")"
   ]
  }
 ],
 "metadata": {
  "kernelspec": {
   "display_name": "Python 3",
   "language": "python",
   "name": "python3"
  },
  "language_info": {
   "codemirror_mode": {
    "name": "ipython",
    "version": 3
   },
   "file_extension": ".py",
   "mimetype": "text/x-python",
   "name": "python",
   "nbconvert_exporter": "python",
   "pygments_lexer": "ipython3",
   "version": "3.7.1"
  }
 },
 "nbformat": 4,
 "nbformat_minor": 2
}
